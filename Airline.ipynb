{
 "cells": [
  {
   "cell_type": "markdown",
   "id": "0e47684b-cdb5-45e7-ad5d-fe62e0f6a018",
   "metadata": {},
   "source": [
    "# Airline Passengers"
   ]
  },
  {
   "cell_type": "code",
   "execution_count": 4,
   "id": "78e88f3f-bc9f-43ef-bbd8-351d85d58e8a",
   "metadata": {},
   "outputs": [],
   "source": [
    "import pandas as pd\n",
    "import numpy as np\n",
    "import matplotlib.pyplot as plt\n",
    "import seaborn as sns\n",
    "from ydata_profiling import ProfileReport"
   ]
  },
  {
   "cell_type": "code",
   "execution_count": 5,
   "id": "4e135b77-d3c4-40dd-ac76-3466a3755c73",
   "metadata": {},
   "outputs": [],
   "source": [
    "df = pd.read_csv(\"airline_passenger_satisfaction.csv\")"
   ]
  }
 ],
 "metadata": {
  "kernelspec": {
   "display_name": "Python 3 (ipykernel)",
   "language": "python",
   "name": "python3"
  },
  "language_info": {
   "codemirror_mode": {
    "name": "ipython",
    "version": 3
   },
   "file_extension": ".py",
   "mimetype": "text/x-python",
   "name": "python",
   "nbconvert_exporter": "python",
   "pygments_lexer": "ipython3",
   "version": "3.11.5"
  }
 },
 "nbformat": 4,
 "nbformat_minor": 5
}
