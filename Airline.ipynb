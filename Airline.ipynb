{
 "cells": [
  {
   "cell_type": "markdown",
   "id": "0e47684b-cdb5-45e7-ad5d-fe62e0f6a018",
   "metadata": {},
   "source": [
    "# Airline Passengers"
   ]
  },
  {
   "cell_type": "code",
   "execution_count": 1,
   "id": "78e88f3f-bc9f-43ef-bbd8-351d85d58e8a",
   "metadata": {},
   "outputs": [],
   "source": [
    "import pandas as pd\n",
    "import numpy as np\n",
    "import matplotlib.pyplot as plt\n",
    "import seaborn as sns\n",
    "from ydata_profiling import ProfileReport\n",
    "import dtale\n",
    "\n"
   ]
  },
  {
   "cell_type": "code",
   "execution_count": 5,
   "id": "4e135b77-d3c4-40dd-ac76-3466a3755c73",
   "metadata": {},
   "outputs": [
    {
     "data": {
      "text/html": [
       "\n",
       "        <iframe\n",
       "            width=\"100%\"\n",
       "            height=\"475\"\n",
       "            src=\"http://DESKTOP-QQSLEPF:40000/dtale/iframe/2\"\n",
       "            frameborder=\"0\"\n",
       "            allowfullscreen\n",
       "            \n",
       "        ></iframe>\n",
       "        "
      ],
      "text/plain": [
       "<IPython.lib.display.IFrame at 0x274296b9a10>"
      ]
     },
     "metadata": {},
     "output_type": "display_data"
    },
    {
     "data": {
      "text/plain": []
     },
     "execution_count": 5,
     "metadata": {},
     "output_type": "execute_result"
    }
   ],
   "source": [
    "# CARGAMOS EL DATASET\n",
    "df = pd.read_csv(\"airline_passenger_satisfaction.csv\")\n",
    "\n",
    "# 1.- PROFILEREPORT\n",
    "# profile = ProfileReport(df, title=\"Airlines Passenger\" , explorative=True)\n",
    "# profile.to_notebook_iframe()\n",
    "\n",
    "# 2.- DTALE\n",
    "d = dtale.show(df)\n",
    "d\n"
   ]
  }
 ],
 "metadata": {
  "kernelspec": {
   "display_name": "Python 3 (ipykernel)",
   "language": "python",
   "name": "python3"
  },
  "language_info": {
   "codemirror_mode": {
    "name": "ipython",
    "version": 3
   },
   "file_extension": ".py",
   "mimetype": "text/x-python",
   "name": "python",
   "nbconvert_exporter": "python",
   "pygments_lexer": "ipython3",
   "version": "3.11.4"
  }
 },
 "nbformat": 4,
 "nbformat_minor": 5
}
