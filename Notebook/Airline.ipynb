{
 "cells": [
  {
   "cell_type": "markdown",
   "id": "0e47684b-cdb5-45e7-ad5d-fe62e0f6a018",
   "metadata": {},
   "source": [
    "# Airline Passengers"
   ]
  },
  {
   "cell_type": "code",
   "execution_count": 2,
   "id": "78e88f3f-bc9f-43ef-bbd8-351d85d58e8a",
   "metadata": {},
   "outputs": [],
   "source": [
    "import pandas as pd\n",
    "import numpy as np\n",
    "import matplotlib.pyplot as plt\n",
    "import seaborn as sns\n",
    "from ydata_profiling import ProfileReport\n",
    "import dtale\n",
    "import streamlit as st"
   ]
  },
  {
   "cell_type": "code",
   "execution_count": 3,
   "id": "4e135b77-d3c4-40dd-ac76-3466a3755c73",
   "metadata": {},
   "outputs": [
    {
     "name": "stderr",
     "output_type": "stream",
     "text": [
      "2023-09-01 10:28:04.021 \n",
      "  \u001b[33m\u001b[1mWarning:\u001b[0m to view this Streamlit app on a browser, run it with the following\n",
      "  command:\n",
      "\n",
      "    streamlit run /home/neo/.local/lib/python3.10/site-packages/ipykernel_launcher.py [ARGUMENTS]\n"
     ]
    }
   ],
   "source": [
    "# CARGAMOS EL DATASET\n",
    "df = pd.read_csv(\"airline_passenger_satisfaction.csv\")\n",
    "\n",
    "# 1.- PROFILEREPORT\n",
    "# profile = ProfileReport(df, title=\"Airlines Passenger\" , explorative=True)\n",
    "# profile.to_notebook_iframe()\n",
    "\n",
    "# 2.- DTALE\n",
    "d = dtale.show(df)\n",
    "\n"
   ]
  }
 ],
 "metadata": {
  "kernelspec": {
   "display_name": "Python 3 (ipykernel)",
   "language": "python",
   "name": "python3"
  },
  "language_info": {
   "codemirror_mode": {
    "name": "ipython",
    "version": 3
   },
   "file_extension": ".py",
   "mimetype": "text/x-python",
   "name": "python",
   "nbconvert_exporter": "python",
   "pygments_lexer": "ipython3",
   "version": "3.10.12"
  }
 },
 "nbformat": 4,
 "nbformat_minor": 5
}
