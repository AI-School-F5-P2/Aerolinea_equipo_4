{
 "cells": [
  {
   "cell_type": "markdown",
   "id": "0e47684b-cdb5-45e7-ad5d-fe62e0f6a018",
   "metadata": {},
   "source": [
    "# Airline Passengers"
   ]
  },
  {
   "cell_type": "code",
   "execution_count": 2,
   "id": "78e88f3f-bc9f-43ef-bbd8-351d85d58e8a",
   "metadata": {},
   "outputs": [],
   "source": [
    "import pandas as pd\n",
    "import numpy as np\n",
    "import matplotlib.pyplot as plt\n",
    "import seaborn as sns\n",
    "from ydata_profiling import ProfileReport\n",
    "import dtale\n",
    "import streamlit as st\n",
    "import mitosheet"
   ]
  },
  {
   "cell_type": "code",
   "execution_count": 6,
   "id": "4e135b77-d3c4-40dd-ac76-3466a3755c73",
   "metadata": {
    "scrolled": true
   },
   "outputs": [
    {
     "data": {
      "text/html": [
       "\n",
       "        <iframe\n",
       "            width=\"100%\"\n",
       "            height=\"475\"\n",
       "            src=\"http://DESKTOP-QQSLEPF:40000/dtale/iframe/4\"\n",
       "            frameborder=\"0\"\n",
       "            allowfullscreen\n",
       "            \n",
       "        ></iframe>\n",
       "        "
      ],
      "text/plain": [
       "<IPython.lib.display.IFrame at 0x222cc2b7290>"
      ]
     },
     "metadata": {},
     "output_type": "display_data"
    },
    {
     "data": {
      "text/plain": []
     },
     "execution_count": 6,
     "metadata": {},
     "output_type": "execute_result"
    },
    {
     "name": "stderr",
     "output_type": "stream",
     "text": [
      "2023-09-04 10:00:55,879 - INFO     - Executing shutdown due to inactivity...\n",
      "2023-09-04 10:01:08,234 - INFO     - Executing shutdown...\n",
      "2023-09-04 10:01:08,250 - ERROR    - Exception on /shutdown [GET]\n",
      "Traceback (most recent call last):\n",
      "  File \"c:\\Users\\Alexis\\Desktop\\proyectos\\aereolina\\Aerolinea_equipo_4\\aereolinea_env\\Lib\\site-packages\\flask\\app.py\", line 2529, in wsgi_app\n",
      "    response = self.full_dispatch_request()\n",
      "               ^^^^^^^^^^^^^^^^^^^^^^^^^^^^\n",
      "  File \"c:\\Users\\Alexis\\Desktop\\proyectos\\aereolina\\Aerolinea_equipo_4\\aereolinea_env\\Lib\\site-packages\\flask\\app.py\", line 1825, in full_dispatch_request\n",
      "    rv = self.handle_user_exception(e)\n",
      "         ^^^^^^^^^^^^^^^^^^^^^^^^^^^^^\n",
      "  File \"c:\\Users\\Alexis\\Desktop\\proyectos\\aereolina\\Aerolinea_equipo_4\\aereolinea_env\\Lib\\site-packages\\flask\\app.py\", line 1823, in full_dispatch_request\n",
      "    rv = self.dispatch_request()\n",
      "         ^^^^^^^^^^^^^^^^^^^^^^^\n",
      "  File \"c:\\Users\\Alexis\\Desktop\\proyectos\\aereolina\\Aerolinea_equipo_4\\aereolinea_env\\Lib\\site-packages\\flask\\app.py\", line 1799, in dispatch_request\n",
      "    return self.ensure_sync(self.view_functions[rule.endpoint])(**view_args)\n",
      "           ^^^^^^^^^^^^^^^^^^^^^^^^^^^^^^^^^^^^^^^^^^^^^^^^^^^^^^^^^^^^^^^^^\n",
      "  File \"c:\\Users\\Alexis\\Desktop\\proyectos\\aereolina\\Aerolinea_equipo_4\\aereolinea_env\\Lib\\site-packages\\dtale\\app.py\", line 440, in shutdown\n",
      "    shutdown_server()\n",
      "  File \"c:\\Users\\Alexis\\Desktop\\proyectos\\aereolina\\Aerolinea_equipo_4\\aereolinea_env\\Lib\\site-packages\\dtale\\app.py\", line 426, in shutdown_server\n",
      "    raise RuntimeError(\"Not running with the Werkzeug Server\")\n",
      "RuntimeError: Not running with the Werkzeug Server\n"
     ]
    }
   ],
   "source": [
    "# CARGAMOS EL DATASET\n",
    "df = pd.read_csv(\"../Data/airline_passenger_satisfaction.csv\")\n",
    "\n",
    "# 1.- PROFILEREPORT\n",
    "# profile = ProfileReport(df, title=\"Airlines Passenger\" , explorative=True)\n",
    "# profile.to_notebook_iframe()\n",
    "\n",
    "# 2.- DTALE\n",
    "# d = dtale.show(df)\n",
    "\n",
    "# 3.- MITOSHEET\n",
    "mitosheet.sheet(df, analysis_to_replay=\"id-ybqqahgbwe\")\n",
    "\n"
   ]
  },
  {
   "cell_type": "code",
   "execution_count": 9,
   "id": "9670d380",
   "metadata": {},
   "outputs": [],
   "source": [
    "from mitosheet.public.v3 import *; register_analysis(\"id-ybqqahgbwe\");\n",
    "\n",
    "# sort the column Unnamed: 0 in ascending order\n",
    "df.sort_values('Unnamed: 0', ascending=True, inplace=True)\n",
    "\n",
    "# Exports 1 to file df_export.csv\n",
    "df.to_csv(r'df_export.csv', index=False)"
   ]
  }
 ],
 "metadata": {
  "kernelspec": {
   "display_name": "Python 3 (ipykernel)",
   "language": "python",
   "name": "python3"
  },
  "language_info": {
   "codemirror_mode": {
    "name": "ipython",
    "version": 3
   },
   "file_extension": ".py",
   "mimetype": "text/x-python",
   "name": "python",
   "nbconvert_exporter": "python",
   "pygments_lexer": "ipython3",
   "version": "3.11.4"
  }
 },
 "nbformat": 4,
 "nbformat_minor": 5
}
